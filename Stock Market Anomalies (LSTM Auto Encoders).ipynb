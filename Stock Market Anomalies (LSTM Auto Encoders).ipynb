{
 "cells": [
  {
   "cell_type": "markdown",
   "id": "b8adb4d7",
   "metadata": {},
   "source": [
    "## Stock Market Anomaly Detection Using LSTM Auto Encoders"
   ]
  },
  {
   "cell_type": "code",
   "execution_count": 1,
   "id": "e9bcbb6b",
   "metadata": {},
   "outputs": [],
   "source": [
    "#import libaries\n",
    "import numpy as np\n",
    "import matplotlib.pyplot as plt\n",
    "import pandas as pd\n",
    "import math \n",
    "import tensorflow\n",
    "import seaborn as sns\n",
    "from tensorflow import keras\n",
    "from keras import layers , Sequential\n",
    "from keras.layers import  Dense,LSTM,Flatten,Input,Dropout,TimeDistributed,RepeatVector\n",
    "from sklearn.preprocessing import MinMaxScaler,StandardScaler\n",
    "from sklearn.metrics import  mean_squared_error"
   ]
  },
  {
   "cell_type": "code",
   "execution_count": 2,
   "id": "e8e44eee",
   "metadata": {},
   "outputs": [
    {
     "data": {
      "text/plain": [
       "(5030, 7)"
      ]
     },
     "execution_count": 2,
     "metadata": {},
     "output_type": "execute_result"
    }
   ],
   "source": [
    "# loading the data and inspecting \n",
    "data = pd.read_csv(r'E:\\Data Science\\RNN-LSTM\\GE.csv')\n",
    "data.shape"
   ]
  },
  {
   "cell_type": "code",
   "execution_count": 3,
   "id": "1ebcba87",
   "metadata": {},
   "outputs": [
    {
     "data": {
      "text/plain": [
       "Index(['Date', 'Open', 'High', 'Low', 'Close', 'Adj Close', 'Volume'], dtype='object')"
      ]
     },
     "execution_count": 3,
     "metadata": {},
     "output_type": "execute_result"
    }
   ],
   "source": [
    "data.columns"
   ]
  },
  {
   "cell_type": "code",
   "execution_count": 4,
   "id": "00fc542d",
   "metadata": {},
   "outputs": [
    {
     "data": {
      "text/html": [
       "<div>\n",
       "<style scoped>\n",
       "    .dataframe tbody tr th:only-of-type {\n",
       "        vertical-align: middle;\n",
       "    }\n",
       "\n",
       "    .dataframe tbody tr th {\n",
       "        vertical-align: top;\n",
       "    }\n",
       "\n",
       "    .dataframe thead th {\n",
       "        text-align: right;\n",
       "    }\n",
       "</style>\n",
       "<table border=\"1\" class=\"dataframe\">\n",
       "  <thead>\n",
       "    <tr style=\"text-align: right;\">\n",
       "      <th></th>\n",
       "      <th>Date</th>\n",
       "      <th>Close</th>\n",
       "    </tr>\n",
       "  </thead>\n",
       "  <tbody>\n",
       "    <tr>\n",
       "      <th>0</th>\n",
       "      <td>2001-06-11</td>\n",
       "      <td>364.615387</td>\n",
       "    </tr>\n",
       "    <tr>\n",
       "      <th>1</th>\n",
       "      <td>2001-06-12</td>\n",
       "      <td>375.153839</td>\n",
       "    </tr>\n",
       "    <tr>\n",
       "      <th>2</th>\n",
       "      <td>2001-06-13</td>\n",
       "      <td>368.076935</td>\n",
       "    </tr>\n",
       "    <tr>\n",
       "      <th>3</th>\n",
       "      <td>2001-06-14</td>\n",
       "      <td>375.846161</td>\n",
       "    </tr>\n",
       "    <tr>\n",
       "      <th>4</th>\n",
       "      <td>2001-06-15</td>\n",
       "      <td>375.461548</td>\n",
       "    </tr>\n",
       "  </tbody>\n",
       "</table>\n",
       "</div>"
      ],
      "text/plain": [
       "         Date       Close\n",
       "0  2001-06-11  364.615387\n",
       "1  2001-06-12  375.153839\n",
       "2  2001-06-13  368.076935\n",
       "3  2001-06-14  375.846161\n",
       "4  2001-06-15  375.461548"
      ]
     },
     "execution_count": 4,
     "metadata": {},
     "output_type": "execute_result"
    }
   ],
   "source": [
    "df = data[['Date','Close']]\n",
    "df.head()"
   ]
  },
  {
   "cell_type": "code",
   "execution_count": 5,
   "id": "50ba4eaa",
   "metadata": {},
   "outputs": [
    {
     "name": "stderr",
     "output_type": "stream",
     "text": [
      "C:\\Users\\colombia\\AppData\\Local\\Temp\\ipykernel_17048\\2386008369.py:1: SettingWithCopyWarning: \n",
      "A value is trying to be set on a copy of a slice from a DataFrame.\n",
      "Try using .loc[row_indexer,col_indexer] = value instead\n",
      "\n",
      "See the caveats in the documentation: https://pandas.pydata.org/pandas-docs/stable/user_guide/indexing.html#returning-a-view-versus-a-copy\n",
      "  df['Date'] = pd.to_datetime(df.iloc[:,0])\n"
     ]
    }
   ],
   "source": [
    "df['Date'] = pd.to_datetime(df.iloc[:,0])"
   ]
  },
  {
   "cell_type": "code",
   "execution_count": 6,
   "id": "504de732",
   "metadata": {},
   "outputs": [
    {
     "data": {
      "text/plain": [
       "0      2001-06-11\n",
       "1      2001-06-12\n",
       "2      2001-06-13\n",
       "3      2001-06-14\n",
       "4      2001-06-15\n",
       "          ...    \n",
       "5025   2021-06-02\n",
       "5026   2021-06-03\n",
       "5027   2021-06-04\n",
       "5028   2021-06-07\n",
       "5029   2021-06-08\n",
       "Name: Date, Length: 5030, dtype: datetime64[ns]"
      ]
     },
     "execution_count": 6,
     "metadata": {},
     "output_type": "execute_result"
    }
   ],
   "source": [
    "df['Date']"
   ]
  },
  {
   "cell_type": "code",
   "execution_count": 7,
   "id": "fa1ad3ff",
   "metadata": {},
   "outputs": [
    {
     "data": {
      "text/plain": [
       "<AxesSubplot:xlabel='Date', ylabel='Close'>"
      ]
     },
     "execution_count": 7,
     "metadata": {},
     "output_type": "execute_result"
    },
    {
     "data": {
      "image/png": "[encoded data removed]",
      "text/plain": [
       "<Figure size 432x288 with 1 Axes>"
      ]
     },
     "metadata": {
      "needs_background": "light"
     },
     "output_type": "display_data"
    }
   ],
   "source": [
    "sns.lineplot(x=df['Date'],y=df['Close'])"
   ]
  },
  {
   "cell_type": "code",
   "execution_count": 8,
   "id": "67401768",
   "metadata": {},
   "outputs": [
    {
     "name": "stdout",
     "output_type": "stream",
     "text": [
      "Start date is 2001-06-11 00:00:00\n",
      "End date is 2021-06-08 00:00:00\n"
     ]
    }
   ],
   "source": [
    "#Inspecting the time duration\n",
    "print('Start date is',df['Date'].min())\n",
    "print('End date is',df['Date'].max() )"
   ]
  },
  {
   "cell_type": "code",
   "execution_count": 9,
   "id": "d918fb60",
   "metadata": {},
   "outputs": [],
   "source": [
    "#Splitting  of data \n",
    "train, test = df.loc[df['Date']<='2010-06-09'], df.loc[df['Date']>='2010-06-09']"
   ]
  },
  {
   "cell_type": "code",
   "execution_count": 10,
   "id": "d9fc4815",
   "metadata": {},
   "outputs": [],
   "source": [
    "#scaler  = StandardScaler()\n",
    "\n",
    "#scaler = scaler.fit(train[['Close']])\n",
    "scaler = MinMaxScaler(feature_range=(0,1))\n",
    "# dataset = scaler.fit_transform(train[['Close']])\n",
    "# train = np.array(train[['Close']])\n"
   ]
  },
  {
   "cell_type": "code",
   "execution_count": 11,
   "id": "3d48bb02",
   "metadata": {},
   "outputs": [
    {
     "name": "stderr",
     "output_type": "stream",
     "text": [
      "C:\\Users\\colombia\\AppData\\Local\\Temp\\ipykernel_17048\\1652150156.py:1: SettingWithCopyWarning: \n",
      "A value is trying to be set on a copy of a slice from a DataFrame.\n",
      "Try using .loc[row_indexer,col_indexer] = value instead\n",
      "\n",
      "See the caveats in the documentation: https://pandas.pydata.org/pandas-docs/stable/user_guide/indexing.html#returning-a-view-versus-a-copy\n",
      "  train['Close'] = scaler.fit_transform(train[['Close']])\n",
      "C:\\Users\\colombia\\AppData\\Local\\Temp\\ipykernel_17048\\1652150156.py:2: SettingWithCopyWarning: \n",
      "A value is trying to be set on a copy of a slice from a DataFrame.\n",
      "Try using .loc[row_indexer,col_indexer] = value instead\n",
      "\n",
      "See the caveats in the documentation: https://pandas.pydata.org/pandas-docs/stable/user_guide/indexing.html#returning-a-view-versus-a-copy\n",
      "  test['Close'] = scaler.fit_transform(test[['Close']])\n"
     ]
    }
   ],
   "source": [
    "train['Close'] = scaler.fit_transform(train[['Close']])\n",
    "test['Close'] = scaler.fit_transform(test[['Close']])\n",
    "#test= np.array(test[['Close']])"
   ]
  },
  {
   "cell_type": "code",
   "execution_count": 12,
   "id": "25ff14cd",
   "metadata": {},
   "outputs": [
    {
     "data": {
      "text/plain": [
       "0       0.901327\n",
       "1       0.931637\n",
       "2       0.911283\n",
       "3       0.933628\n",
       "4       0.932522\n",
       "          ...   \n",
       "2257    0.216593\n",
       "2258    0.200221\n",
       "2259    0.193584\n",
       "2260    0.195133\n",
       "2261    0.191593\n",
       "Name: Close, Length: 2262, dtype: float64"
      ]
     },
     "execution_count": 12,
     "metadata": {},
     "output_type": "execute_result"
    }
   ],
   "source": [
    "train['Close']"
   ]
  },
  {
   "cell_type": "code",
   "execution_count": 13,
   "id": "f734d0a7",
   "metadata": {},
   "outputs": [],
   "source": [
    "size=70\n",
    "def change_to_seq(x,y,size=1):\n",
    "    x_values = []\n",
    "    y_values =[]\n",
    "    for i in range(len(x)-size):\n",
    "        x_values.append(x.iloc[i:(i+size)].values)\n",
    "        y_values.append(y.iloc[i+size])\n",
    "    return np.array(x_values),np.array(y_values)\n",
    "\n",
    "# def change_to_seq(x,y,size=1):\n",
    "#     x_values = []\n",
    "#     y_values =[]\n",
    "#     for i in range(len(x)-size):\n",
    "#         x_values.append(x[i:(i+size)])\n",
    "#         y_values.append(y[i+size])\n",
    "#         return np.array(x_values),np.array(y_values)\n"
   ]
  },
  {
   "cell_type": "code",
   "execution_count": 14,
   "id": "58764b9c",
   "metadata": {},
   "outputs": [],
   "source": [
    "trainX, trainY = change_to_seq(train[['Close']], train['Close'],size)\n",
    "testX, testY =change_to_seq(test[['Close']],test['Close'],size)\n",
    "# trainX, trainY = change_to_seq(train, train, size)\n",
    "# testX, testY =change_to_seq(test,test,size)"
   ]
  },
  {
   "cell_type": "code",
   "execution_count": 25,
   "id": "f78ffaae",
   "metadata": {},
   "outputs": [
    {
     "data": {
      "text/plain": [
       "(2192, 70, 1)"
      ]
     },
     "execution_count": 25,
     "metadata": {},
     "output_type": "execute_result"
    }
   ],
   "source": [
    "trainX.shape"
   ]
  },
  {
   "cell_type": "code",
   "execution_count": 16,
   "id": "91354f12",
   "metadata": {},
   "outputs": [
    {
     "name": "stdout",
     "output_type": "stream",
     "text": [
      "Model: \"sequential\"\n",
      "_________________________________________________________________\n",
      " Layer (type)                Output Shape              Param #   \n",
      "=================================================================\n",
      " lstm (LSTM)                 (None, 128)               66560     \n",
      "                                                                 \n",
      " dropout (Dropout)           (None, 128)               0         \n",
      "                                                                 \n",
      " repeat_vector (RepeatVector  (None, 70, 128)          0         \n",
      " )                                                               \n",
      "                                                                 \n",
      " lstm_1 (LSTM)               (None, 70, 128)           131584    \n",
      "                                                                 \n",
      " dropout_1 (Dropout)         (None, 70, 128)           0         \n",
      "                                                                 \n",
      " time_distributed (TimeDistr  (None, 70, 1)            129       \n",
      " ibuted)                                                         \n",
      "                                                                 \n",
      "=================================================================\n",
      "Total params: 198,273\n",
      "Trainable params: 198,273\n",
      "Non-trainable params: 0\n",
      "_________________________________________________________________\n"
     ]
    }
   ],
   "source": [
    "model =Sequential([\n",
    "    LSTM(128,input_shape=(trainX.shape[1],trainX.shape[2])),\n",
    "    Dropout(rate = 0.2),\n",
    "    RepeatVector(trainX.shape[1]),\n",
    "    LSTM(128, return_sequences =True),\n",
    "    Dropout(rate=0.2),\n",
    "    TimeDistributed(Dense(trainX.shape[2]))\n",
    "    \n",
    "])\n",
    "\n",
    "model.compile( \n",
    "              loss ='mae',\n",
    "               optimizer='adam')\n",
    "model.summary()"
   ]
  },
  {
   "cell_type": "code",
   "execution_count": 17,
   "id": "e7cda024",
   "metadata": {},
   "outputs": [
    {
     "name": "stdout",
     "output_type": "stream",
     "text": [
      "Epoch 1/10\n",
      "99/99 [==============================] - 17s 123ms/step - loss: 0.1485 - val_loss: 0.3391\n",
      "Epoch 2/10\n",
      "99/99 [==============================] - 11s 109ms/step - loss: 0.1204 - val_loss: 0.3326\n",
      "Epoch 3/10\n",
      "99/99 [==============================] - 11s 109ms/step - loss: 0.1173 - val_loss: 0.3506\n",
      "Epoch 4/10\n",
      "99/99 [==============================] - 12s 119ms/step - loss: 0.1182 - val_loss: 0.3589\n",
      "Epoch 5/10\n",
      "99/99 [==============================] - 11s 115ms/step - loss: 0.1158 - val_loss: 0.3672\n",
      "Epoch 6/10\n",
      "99/99 [==============================] - 12s 117ms/step - loss: 0.1151 - val_loss: 0.3896\n",
      "Epoch 7/10\n",
      "99/99 [==============================] - 12s 117ms/step - loss: 0.1153 - val_loss: 0.3694\n",
      "Epoch 8/10\n",
      "99/99 [==============================] - 12s 119ms/step - loss: 0.1149 - val_loss: 0.3637\n",
      "Epoch 9/10\n",
      "99/99 [==============================] - 11s 114ms/step - loss: 0.1136 - val_loss: 0.3195\n",
      "Epoch 10/10\n",
      "99/99 [==============================] - 11s 115ms/step - loss: 0.1141 - val_loss: 0.3538\n"
     ]
    }
   ],
   "source": [
    "history = model.fit(trainX,trainY, epochs=10, batch_size= 20, validation_split=0.1, verbose=1)"
   ]
  },
  {
   "cell_type": "code",
   "execution_count": 18,
   "id": "ddea13e2",
   "metadata": {},
   "outputs": [
    {
     "data": {
      "text/plain": [
       "[<matplotlib.lines.Line2D at 0x1c215c194c0>]"
      ]
     },
     "execution_count": 18,
     "metadata": {},
     "output_type": "execute_result"
    },
    {
     "data": {
      "image/png": "[encoded data removed]",
      "text/plain": [
       "<Figure size 360x360 with 1 Axes>"
      ]
     },
     "metadata": {
      "needs_background": "light"
     },
     "output_type": "display_data"
    }
   ],
   "source": [
    "fig = plt.figure(figsize=(5,5))\n",
    "ax = fig.add_subplot(111)\n",
    "plt.plot(history.history['loss'])\n",
    "plt.plot(history.history['val_loss'])\n"
   ]
  },
  {
   "cell_type": "code",
   "execution_count": 19,
   "id": "9d264a58",
   "metadata": {},
   "outputs": [
    {
     "name": "stdout",
     "output_type": "stream",
     "text": [
      "69/69 [==============================] - 5s 51ms/step\n",
      "85/85 [==============================] - 5s 53ms/step\n"
     ]
    },
    {
     "name": "stderr",
     "output_type": "stream",
     "text": [
      "No artists with labels found to put in legend.  Note that artists whose label start with an underscore are ignored when legend() is called with no argument.\n"
     ]
    },
    {
     "data": {
      "text/plain": [
       "<matplotlib.legend.Legend at 0x1c215e3e5e0>"
      ]
     },
     "execution_count": 19,
     "metadata": {},
     "output_type": "execute_result"
    },
    {
     "data": {
      "image/png": "[encoded data removed]",
      "text/plain": [
       "<Figure size 432x288 with 1 Axes>"
      ]
     },
     "metadata": {
      "needs_background": "light"
     },
     "output_type": "display_data"
    }
   ],
   "source": [
    "# finding the mean absolute error for trained \n",
    "train_predict =  model.predict(trainX)\n",
    "train_mae = np.mean(np.abs(train_predict - trainX), axis=1)\n",
    "plt.hist(train_mae, bins =30)\n",
    "\n",
    "# finding the mean absolute error for test\n",
    "test_predict = model.predict(testX)\n",
    "test_mae = np.mean(np.abs(test_predict - testX), axis=1)\n",
    "plt.hist(test_mae, bins= 30)\n",
    "plt.legend(loc='upper right')"
   ]
  },
  {
   "cell_type": "code",
   "execution_count": 20,
   "id": "5915ba05",
   "metadata": {},
   "outputs": [],
   "source": [
    "#\n",
    "max_train_mae = 0.4"
   ]
  },
  {
   "cell_type": "code",
   "execution_count": 21,
   "id": "af2f3f77",
   "metadata": {},
   "outputs": [],
   "source": [
    "anomaly_df = pd.DataFrame(test[size:])"
   ]
  },
  {
   "cell_type": "code",
   "execution_count": 22,
   "id": "c898d3f0",
   "metadata": {},
   "outputs": [],
   "source": [
    "anomaly_df['test_mae'] = test_mae\n",
    "anomaly_df['max_train_mae']= max_train_mae\n",
    "anomaly_df['anomaly'] = anomaly_df['test_mae']>anomaly_df['max_train_mae']\n",
    "anomaly_df['Close'] =test[size:]['Close']"
   ]
  },
  {
   "cell_type": "code",
   "execution_count": 23,
   "id": "fe811ca6",
   "metadata": {},
   "outputs": [
    {
     "data": {
      "text/plain": [
       "<AxesSubplot:xlabel='Date', ylabel='test_mae'>"
      ]
     },
     "execution_count": 23,
     "metadata": {},
     "output_type": "execute_result"
    },
    {
     "data": {
      "image/png": "[encoded data removed]",
      "text/plain": [
       "<Figure size 432x288 with 1 Axes>"
      ]
     },
     "metadata": {
      "needs_background": "light"
     },
     "output_type": "display_data"
    }
   ],
   "source": [
    "sns.lineplot(x=anomaly_df['Date'], y=anomaly_df['test_mae'])\n",
    "sns.lineplot(x=anomaly_df['Date'], y=anomaly_df['max_train_mae'])"
   ]
  }
 ],
 "metadata": {
  "kernelspec": {
   "display_name": "Python 3 (ipykernel)",
   "language": "python",
   "name": "python3"
  },
  "language_info": {
   "codemirror_mode": {
    "name": "ipython",
    "version": 3
   },
   "file_extension": ".py",
   "mimetype": "text/x-python",
   "name": "python",
   "nbconvert_exporter": "python",
   "pygments_lexer": "ipython3",
   "version": "3.9.13"
  }
 },
 "nbformat": 4,
 "nbformat_minor": 5
}
